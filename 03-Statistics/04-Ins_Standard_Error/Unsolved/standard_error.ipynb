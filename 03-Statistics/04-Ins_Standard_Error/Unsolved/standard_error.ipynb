{
 "cells": [
  {
   "cell_type": "code",
   "execution_count": 1,
   "metadata": {},
   "outputs": [],
   "source": [
    "# Dependencies\n",
    "import pandas as pd\n",
    "import random\n",
    "import matplotlib.pyplot as plt\n",
    "import numpy as np\n",
    "from scipy.stats import sem\n",
    "\n",
    "# Set the seed so our data is reproducible\n",
    "random.seed(42)"
   ]
  },
  {
   "cell_type": "code",
   "execution_count": 2,
   "metadata": {},
   "outputs": [
    {
     "name": "stdout",
     "output_type": "stream",
     "text": [
      "          Type  Combined_MPG                           Make_Model\n",
      "0  Two Seaters       21.0000                            Acura_NSX\n",
      "1  Two Seaters       27.9406                        ALFA ROMEO_4C\n",
      "2  Two Seaters       20.9455  Aston Martin Lagonda Ltd_Vantage V8\n",
      "3  Two Seaters       25.9952             Audi_TT Roadster quattro\n",
      "4  Two Seaters       27.6300                     BMW_Z4 sDrive30i\n"
     ]
    }
   ],
   "source": [
    "# Sample versus population example fuel economy\n",
    "fuel_economy = pd.read_csv('../Resources/2019_fuel_economy.csv')\n",
    "\n",
    "# First overview the data set - how many factors, etc.\n",
    "print(fuel_economy.head())"
   ]
  },
  {
   "cell_type": "code",
   "execution_count": 3,
   "metadata": {},
   "outputs": [
    {
     "name": "stdout",
     "output_type": "stream",
     "text": [
      "The mean MPG of all vehicles is: 23.33\n",
      "The standard deviation of all vehicle's MPG is: 5.94\n"
     ]
    },
    {
     "data": {
      "image/png": "[encoded data removed]",
      "text/plain": [
       "<Figure size 432x288 with 1 Axes>"
      ]
     },
     "metadata": {
      "needs_background": "light"
     },
     "output_type": "display_data"
    }
   ],
   "source": [
    "# Calculate the summary statistics and plot the histogram of the entire population data\n",
    "print(f\"The mean MPG of all vehicles is: {round(fuel_economy.Combined_MPG.mean(),2)}\")\n",
    "print(f\"The standard deviation of all vehicle's MPG is: {round(fuel_economy.Combined_MPG.std(),2)}\")\n",
    "plt.hist(fuel_economy.Combined_MPG)\n",
    "plt.xlabel(\"Fuel Economy (MPG)\")\n",
    "plt.ylabel(\"Number of Vehicles\")\n",
    "plt.show()"
   ]
  },
  {
   "cell_type": "code",
   "execution_count": 4,
   "metadata": {},
   "outputs": [
    {
     "name": "stdout",
     "output_type": "stream",
     "text": [
      "The mean MPG of all vehicles is: 18.48\n",
      "The standard deviation of all vehicle's MPG is: 2.41\n"
     ]
    },
    {
     "data": {
      "image/png": "[encoded data removed]",
      "text/plain": [
       "<Figure size 432x288 with 1 Axes>"
      ]
     },
     "metadata": {
      "needs_background": "light"
     },
     "output_type": "display_data"
    }
   ],
   "source": [
    "# Calculate the summary statistics and plot the histogram of the sample data using iloc\n",
    "subset = fuel_economy.iloc[range(766,856)]\n",
    "print(f\"The mean MPG of all vehicles is: {round(subset.Combined_MPG.mean(),2)}\")\n",
    "print(f\"The standard deviation of all vehicle's MPG is: {round(subset.Combined_MPG.std(),2)}\")\n",
    "plt.hist(subset.Combined_MPG)\n",
    "plt.xlabel(\"Fuel Economy (MPG)\")\n",
    "plt.ylabel(\"Number of Vehicles\")\n",
    "plt.show()"
   ]
  },
  {
   "cell_type": "code",
   "execution_count": 5,
   "metadata": {},
   "outputs": [
    {
     "name": "stdout",
     "output_type": "stream",
     "text": [
      "The mean MPG of all vehicles is: 24.22\n",
      "The standard deviation of all vehicle's MPG is: 6.05\n"
     ]
    },
    {
     "data": {
      "image/png": "[encoded data removed]",
      "text/plain": [
       "<Figure size 432x288 with 1 Axes>"
      ]
     },
     "metadata": {
      "needs_background": "light"
     },
     "output_type": "display_data"
    }
   ],
   "source": [
    "# Calculate the summary statistics and plot the histogram of the sample data using random sampling\n",
    "subset = fuel_economy.sample(90)\n",
    "print(f\"The mean MPG of all vehicles is: {round(subset.Combined_MPG.mean(),2)}\")\n",
    "print(f\"The standard deviation of all vehicle's MPG is: {round(subset.Combined_MPG.std(),2)}\")\n",
    "plt.hist(subset.Combined_MPG)\n",
    "plt.xlabel(\"Fuel Economy (MPG)\")\n",
    "plt.ylabel(\"Number of Vehicles\")\n",
    "plt.show()"
   ]
  },
  {
   "cell_type": "code",
   "execution_count": null,
   "metadata": {},
   "outputs": [],
   "source": []
  }
 ],
 "metadata": {
  "kernelspec": {
   "display_name": "Python 3",
   "language": "python",
   "name": "python3"
  },
  "language_info": {
   "codemirror_mode": {
    "name": "ipython",
    "version": 3
   },
   "file_extension": ".py",
   "mimetype": "text/x-python",
   "name": "python",
   "nbconvert_exporter": "python",
   "pygments_lexer": "ipython3",
   "version": "3.7.3"
  },
  "toc": {
   "base_numbering": 1,
   "nav_menu": {},
   "number_sections": true,
   "sideBar": true,
   "skip_h1_title": false,
   "title_cell": "Table of Contents",
   "title_sidebar": "Contents",
   "toc_cell": false,
   "toc_position": {},
   "toc_section_display": true,
   "toc_window_display": false
  }
 },
 "nbformat": 4,
 "nbformat_minor": 2
}
